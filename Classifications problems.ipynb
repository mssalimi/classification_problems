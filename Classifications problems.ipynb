{
 "cells": [
  {
   "cell_type": "markdown",
   "metadata": {
    "colab_type": "text",
    "id": "NR3tA_mpMLTq"
   },
   "source": [
    "<div class=\"alert alert-block alert-info\"><b></b>\n",
    "<h1><center> <font color='black'> Homework 03  </font></center></h1>\n",
    "<h2><center> <font color='black'> Classification problems </font></center></h2>        \n",
    "\n",
    "<h2><center> <font color='black'> BDA - University of Tartu - Spring 2020</font></center></h3>\n",
    "</div>"
   ]
  },
  {
   "cell_type": "markdown",
   "metadata": {
    "colab_type": "text",
    "id": "e3vqLGBCMLUh"
   },
   "source": [
    "# 1. Classification tasks and algorithms (8 points)"
   ]
  },
  {
   "cell_type": "markdown",
   "metadata": {
    "colab_type": "text",
    "id": "Sq8fuNbAMLUs"
   },
   "source": [
    "We are going to use the dataset from the file HR_Employee_Attrition.csv which contains data about the employees of a company and the fact if they have left the company due to causes like retirement, resignation, elimination of a position, personal health etc. It is important for companies to predict if their employees are going to leave because the hiring process is costly and requires planification. The data has the following columns:\n",
    "\n",
    "\n",
    "Age – self descriptive\n",
    "\n",
    "BusinessTravel – how frequent employee travels\n",
    "\n",
    "DailyRate – daily rate on terms of salary\n",
    "\n",
    "Department – self descriptive\n",
    "\n",
    "DistanceFromHome – distance between employee home and work\n",
    "\n",
    "Education – education level of employee\n",
    "\n",
    "EducationField – self descriptive\n",
    "\n",
    "EnvironmentSatisfaction – level of satisfaction with working environment\n",
    "\n",
    "Gender – self descriptive\n",
    "\n",
    "HourlyRate – self descriptive\n",
    "\n",
    "JobRole – self descriptive\n",
    "\n",
    "JobInvolvement – level of interest of the job\n",
    "\n",
    "JobSatisfaction – level of satisfaction with current job\n",
    "\n",
    "MaritalStatus – self descriptive\n",
    "\n",
    "MonthlyIncome – self descriptive\n",
    "\n",
    "MonthlyRate – self descriptive\n",
    "\n",
    "NumCompaniesWorked – self descriptive\n",
    "\n",
    "Over18 – whether customer age is more than 18\n",
    "\n",
    "OverTime – whether customer works overtime or not\n",
    "\n",
    "PerformanceRating – performance level of employee\n",
    "\n",
    "RelationshipSatisfaction – level of satisfaction with working community\n",
    "\n",
    "StandardHours – standard amount of hours that employee works\n",
    "\n",
    "TotalWorkingYears – whether customer age is more than 18\n",
    "\n",
    "TrainingTimesLastYear – whether customer age is more than 18"
   ]
  },
  {
   "cell_type": "code",
   "execution_count": 1,
   "metadata": {
    "colab": {},
    "colab_type": "code",
    "id": "Zjr3pwZCMLU6"
   },
   "outputs": [],
   "source": [
    "import numpy as np \n",
    "import pandas as pd \n",
    "import matplotlib.pyplot as plt\n",
    "#Visualization packages\n",
    "import matplotlib.pyplot as plt \n",
    "import seaborn as sns \n",
    "\n",
    "#Machine Learning packages\n",
    "from sklearn.svm import SVC,NuSVC\n",
    "#from xgboost import XGBClassifier\n",
    "from sklearn.neighbors import KNeighborsClassifier\n",
    "from sklearn.naive_bayes import GaussianNB,MultinomialNB\n",
    "from sklearn.linear_model import SGDClassifier, LogisticRegression\n",
    "from sklearn.tree import DecisionTreeClassifier, ExtraTreeClassifier\n",
    "from sklearn.discriminant_analysis import QuadraticDiscriminantAnalysis, LinearDiscriminantAnalysis\n",
    "from sklearn.ensemble import RandomForestClassifier, AdaBoostClassifier, GradientBoostingClassifier\n",
    "from sklearn.metrics import accuracy_score\n",
    "from sklearn.preprocessing import LabelEncoder\n",
    "from sklearn.model_selection import train_test_split, cross_val_score\n",
    "from sklearn.preprocessing import StandardScaler\n",
    "from sklearn.metrics import confusion_matrix, classification_report, precision_recall_curve\n",
    "from sklearn.metrics import auc, roc_auc_score, roc_curve, recall_score, log_loss\n",
    "from sklearn.metrics import f1_score, accuracy_score, roc_auc_score, make_scorer\n",
    "from sklearn.metrics import average_precision_score\n",
    "#Suppress warnings\n",
    "import warnings\n",
    "warnings.filterwarnings('ignore')"
   ]
  },
  {
   "cell_type": "code",
   "execution_count": 3,
   "metadata": {
    "colab": {},
    "colab_type": "code",
    "id": "sUsbyScxMLVd",
    "outputId": "60d4effd-2822-4153-cb4a-036a97ad24ed"
   },
   "outputs": [
    {
     "data": {
      "text/html": [
       "<div>\n",
       "<style scoped>\n",
       "    .dataframe tbody tr th:only-of-type {\n",
       "        vertical-align: middle;\n",
       "    }\n",
       "\n",
       "    .dataframe tbody tr th {\n",
       "        vertical-align: top;\n",
       "    }\n",
       "\n",
       "    .dataframe thead th {\n",
       "        text-align: right;\n",
       "    }\n",
       "</style>\n",
       "<table border=\"1\" class=\"dataframe\">\n",
       "  <thead>\n",
       "    <tr style=\"text-align: right;\">\n",
       "      <th></th>\n",
       "      <th>Age</th>\n",
       "      <th>Attrition</th>\n",
       "      <th>BusinessTravel</th>\n",
       "      <th>DailyRate</th>\n",
       "      <th>Department</th>\n",
       "      <th>DistanceFromHome</th>\n",
       "      <th>Education</th>\n",
       "      <th>EducationField</th>\n",
       "      <th>EnvironmentSatisfaction</th>\n",
       "      <th>Gender</th>\n",
       "      <th>...</th>\n",
       "      <th>PerformanceRating</th>\n",
       "      <th>RelationshipSatisfaction</th>\n",
       "      <th>StandardHours</th>\n",
       "      <th>TotalWorkingYears</th>\n",
       "      <th>TrainingTimesLastYear</th>\n",
       "      <th>WorkLifeBalance</th>\n",
       "      <th>YearsAtCompany</th>\n",
       "      <th>YearsInCurrentRole</th>\n",
       "      <th>YearsSinceLastPromotion</th>\n",
       "      <th>YearsWithCurrManager</th>\n",
       "    </tr>\n",
       "  </thead>\n",
       "  <tbody>\n",
       "    <tr>\n",
       "      <th>0</th>\n",
       "      <td>41</td>\n",
       "      <td>Yes</td>\n",
       "      <td>Travel_Rarely</td>\n",
       "      <td>1102</td>\n",
       "      <td>Sales</td>\n",
       "      <td>1</td>\n",
       "      <td>2</td>\n",
       "      <td>Life Sciences</td>\n",
       "      <td>2</td>\n",
       "      <td>Female</td>\n",
       "      <td>...</td>\n",
       "      <td>3</td>\n",
       "      <td>1</td>\n",
       "      <td>80</td>\n",
       "      <td>8</td>\n",
       "      <td>0</td>\n",
       "      <td>1</td>\n",
       "      <td>6</td>\n",
       "      <td>4</td>\n",
       "      <td>0</td>\n",
       "      <td>5</td>\n",
       "    </tr>\n",
       "    <tr>\n",
       "      <th>1</th>\n",
       "      <td>49</td>\n",
       "      <td>No</td>\n",
       "      <td>Travel_Frequently</td>\n",
       "      <td>279</td>\n",
       "      <td>Research &amp; Development</td>\n",
       "      <td>8</td>\n",
       "      <td>1</td>\n",
       "      <td>Life Sciences</td>\n",
       "      <td>3</td>\n",
       "      <td>Male</td>\n",
       "      <td>...</td>\n",
       "      <td>4</td>\n",
       "      <td>4</td>\n",
       "      <td>80</td>\n",
       "      <td>10</td>\n",
       "      <td>3</td>\n",
       "      <td>3</td>\n",
       "      <td>10</td>\n",
       "      <td>7</td>\n",
       "      <td>1</td>\n",
       "      <td>7</td>\n",
       "    </tr>\n",
       "    <tr>\n",
       "      <th>2</th>\n",
       "      <td>37</td>\n",
       "      <td>Yes</td>\n",
       "      <td>Travel_Rarely</td>\n",
       "      <td>1373</td>\n",
       "      <td>Research &amp; Development</td>\n",
       "      <td>2</td>\n",
       "      <td>2</td>\n",
       "      <td>Other</td>\n",
       "      <td>4</td>\n",
       "      <td>Male</td>\n",
       "      <td>...</td>\n",
       "      <td>3</td>\n",
       "      <td>2</td>\n",
       "      <td>80</td>\n",
       "      <td>7</td>\n",
       "      <td>3</td>\n",
       "      <td>3</td>\n",
       "      <td>0</td>\n",
       "      <td>0</td>\n",
       "      <td>0</td>\n",
       "      <td>0</td>\n",
       "    </tr>\n",
       "    <tr>\n",
       "      <th>3</th>\n",
       "      <td>33</td>\n",
       "      <td>No</td>\n",
       "      <td>Travel_Frequently</td>\n",
       "      <td>1392</td>\n",
       "      <td>Research &amp; Development</td>\n",
       "      <td>3</td>\n",
       "      <td>4</td>\n",
       "      <td>Life Sciences</td>\n",
       "      <td>4</td>\n",
       "      <td>Female</td>\n",
       "      <td>...</td>\n",
       "      <td>3</td>\n",
       "      <td>3</td>\n",
       "      <td>80</td>\n",
       "      <td>8</td>\n",
       "      <td>3</td>\n",
       "      <td>3</td>\n",
       "      <td>8</td>\n",
       "      <td>7</td>\n",
       "      <td>3</td>\n",
       "      <td>0</td>\n",
       "    </tr>\n",
       "    <tr>\n",
       "      <th>4</th>\n",
       "      <td>27</td>\n",
       "      <td>No</td>\n",
       "      <td>Travel_Rarely</td>\n",
       "      <td>591</td>\n",
       "      <td>Research &amp; Development</td>\n",
       "      <td>2</td>\n",
       "      <td>1</td>\n",
       "      <td>Medical</td>\n",
       "      <td>1</td>\n",
       "      <td>Male</td>\n",
       "      <td>...</td>\n",
       "      <td>3</td>\n",
       "      <td>4</td>\n",
       "      <td>80</td>\n",
       "      <td>6</td>\n",
       "      <td>3</td>\n",
       "      <td>3</td>\n",
       "      <td>2</td>\n",
       "      <td>2</td>\n",
       "      <td>2</td>\n",
       "      <td>2</td>\n",
       "    </tr>\n",
       "  </tbody>\n",
       "</table>\n",
       "<p>5 rows × 30 columns</p>\n",
       "</div>"
      ],
      "text/plain": [
       "   Age Attrition     BusinessTravel  DailyRate              Department  \\\n",
       "0   41       Yes      Travel_Rarely       1102                   Sales   \n",
       "1   49        No  Travel_Frequently        279  Research & Development   \n",
       "2   37       Yes      Travel_Rarely       1373  Research & Development   \n",
       "3   33        No  Travel_Frequently       1392  Research & Development   \n",
       "4   27        No      Travel_Rarely        591  Research & Development   \n",
       "\n",
       "   DistanceFromHome  Education EducationField  EnvironmentSatisfaction  \\\n",
       "0                 1          2  Life Sciences                        2   \n",
       "1                 8          1  Life Sciences                        3   \n",
       "2                 2          2          Other                        4   \n",
       "3                 3          4  Life Sciences                        4   \n",
       "4                 2          1        Medical                        1   \n",
       "\n",
       "   Gender  ...  PerformanceRating  RelationshipSatisfaction StandardHours  \\\n",
       "0  Female  ...                  3                         1            80   \n",
       "1    Male  ...                  4                         4            80   \n",
       "2    Male  ...                  3                         2            80   \n",
       "3  Female  ...                  3                         3            80   \n",
       "4    Male  ...                  3                         4            80   \n",
       "\n",
       "   TotalWorkingYears TrainingTimesLastYear  WorkLifeBalance  YearsAtCompany  \\\n",
       "0                  8                     0                1               6   \n",
       "1                 10                     3                3              10   \n",
       "2                  7                     3                3               0   \n",
       "3                  8                     3                3               8   \n",
       "4                  6                     3                3               2   \n",
       "\n",
       "   YearsInCurrentRole YearsSinceLastPromotion YearsWithCurrManager  \n",
       "0                   4                       0                    5  \n",
       "1                   7                       1                    7  \n",
       "2                   0                       0                    0  \n",
       "3                   7                       3                    0  \n",
       "4                   2                       2                    2  \n",
       "\n",
       "[5 rows x 30 columns]"
      ]
     },
     "execution_count": 3,
     "metadata": {},
     "output_type": "execute_result"
    }
   ],
   "source": [
    "data = pd.read_csv('HR_Employee_Attrition.csv', header=0)\n",
    "data.head()"
   ]
  },
  {
   "cell_type": "code",
   "execution_count": 4,
   "metadata": {
    "colab": {},
    "colab_type": "code",
    "id": "Ct96XL_fQNeD",
    "outputId": "99594bc3-f112-4dc1-be51-16954a3b70dd"
   },
   "outputs": [
    {
     "data": {
      "text/plain": [
       "No     1233\n",
       "Yes     237\n",
       "Name: Attrition, dtype: int64"
      ]
     },
     "execution_count": 4,
     "metadata": {},
     "output_type": "execute_result"
    }
   ],
   "source": [
    "data[\"Attrition\"].value_counts()\n"
   ]
  },
  {
   "cell_type": "markdown",
   "metadata": {
    "colab_type": "text",
    "id": "Is8x9Ju4MLWJ"
   },
   "source": [
    "## 1.1 Dataset exploration (1.6 points)"
   ]
  },
  {
   "cell_type": "markdown",
   "metadata": {
    "colab_type": "text",
    "id": "dJiBjvKEMLWV"
   },
   "source": [
    "**1.1.0.\n",
    "Plot the correlation of the variables in the dataset with the Attrition variable. (0.4 points)**"
   ]
  },
  {
   "cell_type": "code",
   "execution_count": 5,
   "metadata": {
    "colab": {},
    "colab_type": "code",
    "id": "6S0dw0W7MLWd",
    "outputId": "3fa42574-f205-491f-aacb-daffaca2b4d4"
   },
   "outputs": [
    {
     "data": {
      "text/plain": [
       "<matplotlib.axes._subplots.AxesSubplot at 0x2862d93d3d0>"
      ]
     },
     "execution_count": 5,
     "metadata": {},
     "output_type": "execute_result"
    },
    {
     "data": {
      "image/png": "[encoded data removed]",
      "text/plain": [
       "<Figure size 1080x720 with 2 Axes>"
      ]
     },
     "metadata": {
      "needs_background": "light"
     },
     "output_type": "display_data"
    }
   ],
   "source": [
    "# Calculate correlations\n",
    "corr = data.corr()\n",
    "mask = np.zeros_like(corr)\n",
    "mask[np.triu_indices_from(mask)] = True\n",
    "# Heatmap\n",
    "plt.figure(figsize=(15, 10))\n",
    "sns.heatmap(corr,\n",
    "            vmax=.5,\n",
    "            mask=mask,\n",
    "            # annot=True, fmt='.2f',\n",
    "            linewidths=.2, cmap=\"YlGnBu\")\n",
    "\n"
   ]
  },
  {
   "cell_type": "markdown",
   "metadata": {
    "colab_type": "text",
    "id": "pdQNOhknMLWv"
   },
   "source": [
    "**1.1.1. Write three interesting observation that you notice. Were they as you  expected ? Please elaborate your answer in 1 - 3 sentences. (0.4 points)**\n",
    "\n",
    "\"Monthly Rate\", \"Number of Companies Worked\" and \"Distance From Home\" are positively correlated to Attrition;\n",
    "while \"Total Working Years\", \"Job Level\", and \"Years In Current Role\" are negatively correlated to Attrition."
   ]
  },
  {
   "cell_type": "markdown",
   "metadata": {
    "colab_type": "text",
    "id": "O-Hxf9mdMLXZ"
   },
   "source": [
    "**1.1.2 Make a boxplot for total working years for each type of Attrition values. (0.4 points)**"
   ]
  },
  {
   "cell_type": "code",
   "execution_count": 6,
   "metadata": {
    "colab": {},
    "colab_type": "code",
    "id": "PDoUwZs4MLXk",
    "outputId": "2029aee0-2309-4846-e8a4-b73e5f18d6b7"
   },
   "outputs": [
    {
     "data": {
      "image/png": "[encoded data removed]",
      "text/plain": [
       "<Figure size 432x288 with 1 Axes>"
      ]
     },
     "metadata": {
      "needs_background": "light"
     },
     "output_type": "display_data"
    }
   ],
   "source": [
    "sns.boxplot(data['Attrition'], data['YearsAtCompany'])\n",
    "plt.title('YearsAtCompany', fontsize=20)      \n",
    "plt.xlabel('Attrition', fontsize=16)\n",
    "plt.ylabel('YearsAtCompany', fontsize=16)\n",
    "plt.show()\n"
   ]
  },
  {
   "cell_type": "markdown",
   "metadata": {
    "colab_type": "text",
    "id": "1jFZYAmkMLX3"
   },
   "source": [
    "**1.1.3. Plot the relative frequency of Attrition values (Yes/No)  (0.4 points)**"
   ]
  },
  {
   "cell_type": "code",
   "execution_count": 7,
   "metadata": {
    "colab": {},
    "colab_type": "code",
    "id": "Aj7FAx2oMLYA",
    "outputId": "3f5193d1-5eb8-4c2b-8108-57d623f2cdc8"
   },
   "outputs": [
    {
     "name": "stdout",
     "output_type": "stream",
     "text": [
      "Percentage of Current Employees is 83.9% and of Ex-employees is: 16.1%\n"
     ]
    },
    {
     "data": {
      "image/png": "[encoded data removed]",
      "text/plain": [
       "<Figure size 432x288 with 1 Axes>"
      ]
     },
     "metadata": {
      "needs_background": "light"
     },
     "output_type": "display_data"
    }
   ],
   "source": [
    "data['Attrition'].value_counts()\n",
    "print(\"Percentage of Current Employees is {:.1f}% and of Ex-employees is: {:.1f}%\".format(\n",
    "    data[data['Attrition'] == 'No'].shape[0] / data.shape[0]*100,\n",
    "    data[data['Attrition'] == 'Yes'].shape[0] / data.shape[0]*100))\n",
    "\n",
    "sns.countplot(data['Attrition'])\n",
    "plt.show()"
   ]
  },
  {
   "cell_type": "markdown",
   "metadata": {
    "colab_type": "text",
    "id": "CeHvmFAvMLYk"
   },
   "source": [
    "## 1.2 Classification  (6.4 points)"
   ]
  },
  {
   "cell_type": "markdown",
   "metadata": {
    "colab_type": "text",
    "id": "ZYU-BjCIMLYv"
   },
   "source": [
    "We are going to predict the variable Attrition by trying different classification algorithms and comparing them. Before let's split the data into training and test set. Hint: You can apply some preprocessing as well to get better results."
   ]
  },
  {
   "cell_type": "code",
   "execution_count": 8,
   "metadata": {
    "colab": {},
    "colab_type": "code",
    "id": "Kt0mSguhQNek"
   },
   "outputs": [],
   "source": [
    "#A lambda function is a small anonymous function.\n",
    "#A lambda function can take any number of arguments, but can only have one expression.\n",
    "data['Attrition']=data['Attrition'].apply(lambda x : 1 if x=='Yes' else 0)\n",
    "\n",
    "#This function is used to convert Categorical values to Numerical values\n",
    "data=pd.get_dummies(data)\n",
    "\n",
    "data.head()\n",
    "feats = data.columns\n",
    "feats = feats.drop('Attrition')\n"
   ]
  },
  {
   "cell_type": "code",
   "execution_count": 9,
   "metadata": {
    "colab": {},
    "colab_type": "code",
    "id": "7sjN8R1YMLY8"
   },
   "outputs": [],
   "source": [
    "#Separating Feature and Target matrices\n",
    "X = data.drop(['Attrition'], axis=1)\n",
    "\n",
    "y=data['Attrition']\n",
    "scale = StandardScaler()\n",
    "X = scale.fit_transform(X)\n",
    "\n",
    "X_train, X_test, y_train, y_test = train_test_split(X, y, test_size=0.2, random_state=0)"
   ]
  },
  {
   "cell_type": "markdown",
   "metadata": {
    "colab_type": "text",
    "id": "hFrtucYjMLZy"
   },
   "source": [
    "**1.2.1 Use the scikit-learn DecisionTreeClassifier with default parameters to predict the attrition value for the test set. Set the random seed to 0. Calculate the accuracy score and print it. (0.4 points)**"
   ]
  },
  {
   "cell_type": "code",
   "execution_count": 10,
   "metadata": {
    "colab": {},
    "colab_type": "code",
    "id": "l5ytUenLMLZ5",
    "outputId": "f8c2cea6-89e4-4d44-a5ce-2685468c0fb8"
   },
   "outputs": [
    {
     "data": {
      "text/plain": [
       "0.7687074829931972"
      ]
     },
     "execution_count": 10,
     "metadata": {},
     "output_type": "execute_result"
    }
   ],
   "source": [
    "from sklearn.tree import DecisionTreeClassifier as DT\n",
    "from sklearn import metrics\n",
    "\n",
    "model=DecisionTreeClassifier()\n",
    "Model = \"DecisionTreeClassifier\"\n",
    "\n",
    "model.fit(X_train,y_train) #Train the Model\n",
    "y_pred = model.predict(X_test) #Use the Model for prediction\n",
    "\n",
    "accuracy_score(y_test, y_pred)"
   ]
  },
  {
   "cell_type": "markdown",
   "metadata": {
    "colab_type": "text",
    "id": "KFj7-9m-MLaF"
   },
   "source": [
    "**1.2.2 Plot the confusion matrix for the predicted values. Based on this matrix or your general knowledge, why accuracy is not a good metric to use in this case ? (0.4 points)**"
   ]
  },
  {
   "cell_type": "code",
   "execution_count": 11,
   "metadata": {
    "colab": {},
    "colab_type": "code",
    "id": "UJOLZ7JJMLaN",
    "outputId": "555c7aa2-3cc1-4686-8e1b-212b0ea43d38",
    "scrolled": false
   },
   "outputs": [
    {
     "name": "stdout",
     "output_type": "stream",
     "text": [
      "[[213  32]\n",
      " [ 36  13]]\n"
     ]
    },
    {
     "data": {
      "image/png": "[encoded data removed]",
      "text/plain": [
       "<Figure size 432x288 with 1 Axes>"
      ]
     },
     "metadata": {
      "needs_background": "light"
     },
     "output_type": "display_data"
    },
    {
     "name": "stdout",
     "output_type": "stream",
     "text": [
      "Accuracy of the Model DecisionTreeClassifier 76.9%\n"
     ]
    }
   ],
   "source": [
    "from sklearn.metrics import confusion_matrix\n",
    "#Function to plot Confusion Matrix\n",
    "def cm_plot(cm,Model):\n",
    "    plt.clf()\n",
    "    plt.imshow(cm, interpolation='nearest', cmap=plt.cm.Wistia)\n",
    "    classNames = ['Negative','Positive']\n",
    "    plt.title('Comparison of Prediction Result for '+ Model)\n",
    "    plt.ylabel('True label')\n",
    "    plt.xlabel('Predicted label')\n",
    "    tick_marks = np.arange(len(classNames))\n",
    "    plt.xticks(tick_marks, classNames, rotation=45)\n",
    "    plt.yticks(tick_marks, classNames)\n",
    "    s = [['TN','FP'], ['FN', 'TP']]\n",
    "    for i in range(2):\n",
    "        for j in range(2):\n",
    "            plt.text(j,i, str(s[i][j])+\" = \"+str(cm[i][j]))\n",
    "    plt.show()\n",
    "\n",
    "\n",
    "cm = confusion_matrix(y_test,y_pred)\n",
    "print (cm)\n",
    "\n",
    "cm_plot(cm,Model)\n",
    "accuracy = round(100*np.trace(cm)/np.sum(cm),1)\n",
    "print('Accuracy of the Model' ,Model, str(accuracy)+'%')\n",
    "\n",
    "#When we use accuracy, we assign equal cost to false positives and false negatives.\n",
    "# When that data set is imbalanced - say it has 99% of instances in one class and only 1 % in the other - \n",
    "# there is a great way to lower the cost. Predict that every instance belongs to the majority class, get \n",
    "# accuracy of 99% and go home early.Same is the case here as the Attrition class is not evenly distributed. \n",
    "# So we don't use an absolute measure (accuracy) but a relative-to-each-class measure"
   ]
  },
  {
   "cell_type": "markdown",
   "metadata": {
    "colab_type": "text",
    "id": "aCogwmH-MLay"
   },
   "source": [
    "**1.2.4 It is possible to plot the decision tree by using different plotting libraries. We are using the https://pypi.org/project/graphviz/ and sklearn.tree. Install the package and complete the code below so you will get a visualisation of our decision tree. (0.4 points)**"
   ]
  },
  {
   "cell_type": "code",
   "execution_count": 18,
   "metadata": {
    "colab": {},
    "colab_type": "code",
    "id": "q0rwCCqDMLa7",
    "outputId": "bee0a2c1-eccf-49ca-da99-cff9e3c9006e",
    "scrolled": true
   },
   "outputs": [
    {
     "ename": "NameError",
     "evalue": "name 'd' is not defined",
     "output_type": "error",
     "traceback": [
      "\u001b[1;31m---------------------------------------------------------------------------\u001b[0m",
      "\u001b[1;31mNameError\u001b[0m                                 Traceback (most recent call last)",
      "\u001b[1;32m<ipython-input-18-8a3771c80141>\u001b[0m in \u001b[0;36m<module>\u001b[1;34m\u001b[0m\n\u001b[0;32m      2\u001b[0m \u001b[1;32mfrom\u001b[0m \u001b[0msklearn\u001b[0m\u001b[1;33m.\u001b[0m\u001b[0mtree\u001b[0m \u001b[1;32mimport\u001b[0m \u001b[0mexport_graphviz\u001b[0m\u001b[1;33m\u001b[0m\u001b[1;33m\u001b[0m\u001b[0m\n\u001b[0;32m      3\u001b[0m \u001b[1;32mimport\u001b[0m \u001b[0mgraphviz\u001b[0m\u001b[1;33m\u001b[0m\u001b[1;33m\u001b[0m\u001b[0m\n\u001b[1;32m----> 4\u001b[1;33m dot_prod = export_graphviz(model, out_file=None, feature_names=list(d),\n\u001b[0m\u001b[0;32m      5\u001b[0m                 \u001b[0mclass_names\u001b[0m\u001b[1;33m=\u001b[0m\u001b[1;32mTrue\u001b[0m\u001b[1;33m,\u001b[0m \u001b[0mfilled\u001b[0m\u001b[1;33m=\u001b[0m\u001b[1;32mTrue\u001b[0m\u001b[1;33m,\u001b[0m \u001b[0mrounded\u001b[0m\u001b[1;33m=\u001b[0m\u001b[1;32mTrue\u001b[0m\u001b[1;33m,\u001b[0m\u001b[1;33m\u001b[0m\u001b[1;33m\u001b[0m\u001b[0m\n\u001b[0;32m      6\u001b[0m                 special_characters=False)\n",
      "\u001b[1;31mNameError\u001b[0m: name 'd' is not defined"
     ]
    }
   ],
   "source": [
    "#!pip install graphviz\n",
    "from sklearn.tree import export_graphviz\n",
    "import graphviz\n",
    "dot_prod = export_graphviz(model, out_file=None, feature_names=list(d),\n",
    "                class_names=True, filled=True, rounded=True,\n",
    "                special_characters=False)\n",
    "graph = graphviz.Source(dot_prod)\n",
    "graph"
   ]
  },
  {
   "cell_type": "markdown",
   "metadata": {
    "colab_type": "text",
    "id": "nWX-1InxMLbU"
   },
   "source": [
    "**1.2.5 For the decision tree we modeled, what is the most important factor to decide if an employee is going to leave or not? (0.4 points)**"
   ]
  },
  {
   "cell_type": "markdown",
   "metadata": {
    "colab_type": "text",
    "id": "zEFpbEYHMLb2"
   },
   "source": [
    "**<font color='red'>Answer 1: As evident from the decision tree plot, Total Working years is the most important factor</font>** "
   ]
  },
  {
   "cell_type": "markdown",
   "metadata": {
    "colab_type": "text",
    "id": "Puw9lIlbMLb9"
   },
   "source": [
    "**1.2.6 Plot the classification report for the decision tree. In this case study which one out of  precision and recall, would you consider more important ? Please elaborate your answer. (0.4 points)**"
   ]
  },
  {
   "cell_type": "code",
   "execution_count": 19,
   "metadata": {
    "colab": {},
    "colab_type": "code",
    "id": "TfQz4VSNMLcH",
    "outputId": "c03b4da9-3b78-4eb5-ddd1-29aa875fe0af"
   },
   "outputs": [
    {
     "name": "stdout",
     "output_type": "stream",
     "text": [
      "              precision    recall  f1-score   support\n",
      "\n",
      "           0       0.86      0.87      0.86       245\n",
      "           1       0.29      0.27      0.28        49\n",
      "\n",
      "    accuracy                           0.77       294\n",
      "   macro avg       0.57      0.57      0.57       294\n",
      "weighted avg       0.76      0.77      0.76       294\n",
      "\n",
      "classes ['0', '1']\n",
      "plotMat [[0.86, 0.87, 0.86], [0.29, 0.27, 0.28]]\n"
     ]
    },
    {
     "data": {
      "text/plain": [
       "Text(0.5, 5.460738687091549, 'Measures')"
      ]
     },
     "execution_count": 19,
     "metadata": {},
     "output_type": "execute_result"
    },
    {
     "data": {
      "image/png": "[encoded data removed]",
      "text/plain": [
       "<Figure size 432x288 with 2 Axes>"
      ]
     },
     "metadata": {
      "needs_background": "light"
     },
     "output_type": "display_data"
    }
   ],
   "source": [
    "print(classification_report(y_test, y_pred))\n",
    "# Recall is important since it expresses the ability to find all relevant instances in a dataset and is very important that\n",
    "# all in our dataset who are going to leave should be recognized so that means that our model needs to have a high recall.\n",
    "\n",
    "\n",
    "#########PLOT##########\n",
    "cr = classification_report(y_test, y_pred)\n",
    "title='Classification report '\n",
    "with_avg_total=False\n",
    "cmap=plt.cm.Blues\n",
    "\n",
    "lines = cr.split('\\n')\n",
    "# lines\n",
    "classes = []\n",
    "plotMat = []\n",
    "for line in lines[2 : 4]:\n",
    "#     print(\"line\", line)\n",
    "    t = line.split()\n",
    "#     print(\"t:\", t)\n",
    "    classes.append(t[0])\n",
    "    v = [float(x) for x in t[1: len(t) - 1]]\n",
    "#     print(\"v:\", v)\n",
    "    plotMat.append(v)\n",
    "\n",
    "print (\"classes\", classes)\n",
    "print (\"plotMat\", plotMat)\n",
    "\n",
    "if with_avg_total:\n",
    "    aveTotal = lines[len(lines) - 1].split()\n",
    "    classes.append('avg/total')\n",
    "    vAveTotal = [float(x) for x in t[1:len(aveTotal) - 1]]\n",
    "    plotMat.append(vAveTotal)\n",
    "\n",
    "\n",
    "plt.imshow(plotMat, interpolation='nearest', cmap=cmap)\n",
    "plt.title(title)\n",
    "plt.colorbar()\n",
    "x_tick_marks = np.arange(3)\n",
    "y_tick_marks = np.arange(len(classes))\n",
    "plt.xticks(x_tick_marks, ['precision', 'recall', 'f1-score'], rotation=45)\n",
    "plt.yticks(y_tick_marks, classes)\n",
    "plt.tight_layout()\n",
    "plt.ylabel('Classes')\n",
    "plt.xlabel('Measures')"
   ]
  },
  {
   "cell_type": "markdown",
   "metadata": {
    "colab_type": "text",
    "id": "3cyKqrkDMLcs"
   },
   "source": [
    "**1.2.7 Calculate the F1 score of the model in training data and compare it with the F1 score in test  data. What is the effect happening ? (0.4 points)**"
   ]
  },
  {
   "cell_type": "code",
   "execution_count": 20,
   "metadata": {
    "colab": {},
    "colab_type": "code",
    "id": "Cnx2h53qMLc1",
    "outputId": "990f1671-27dd-4756-c0a4-5cfb4d5fa288"
   },
   "outputs": [
    {
     "data": {
      "text/plain": [
       "1.0"
      ]
     },
     "execution_count": 20,
     "metadata": {},
     "output_type": "execute_result"
    }
   ],
   "source": [
    "f1_score(y_train, model.predict(X_train), average='weighted')\n",
    "\n",
    "# Since our model was trained on training data, and it has learnt it well, therefore we get a prefect F1 score."
   ]
  },
  {
   "cell_type": "markdown",
   "metadata": {
    "colab_type": "text",
    "id": "I2WYaL4kMLdU"
   },
   "source": [
    "**<font color='red'>Answer 1:</font>** "
   ]
  },
  {
   "cell_type": "markdown",
   "metadata": {
    "colab_type": "text",
    "id": "iRsrRj76CjjB"
   },
   "source": [
    "**1.2.8 We can use cross validation scores to ensure that our model is generalizing well and we can be more confident when we apply it in test data. We will now try different combinations of maximum depth parameters for the decision tree and choose the best while using cross validation. Please complete the code below and report the best maximum depth. (0.4 points)**"
   ]
  },
  {
   "cell_type": "code",
   "execution_count": 21,
   "metadata": {
    "colab": {},
    "colab_type": "code",
    "id": "d8jBr23zDzMn",
    "outputId": "3f6108b5-9738-45b5-ff25-18157be07c9a"
   },
   "outputs": [
    {
     "name": "stdout",
     "output_type": "stream",
     "text": [
      "Mean score 0.33598920178585845\n",
      "Mean score 0.3311249166361249\n",
      "Mean score 0.3152495964563039\n",
      "Mean score 0.3556658377958783\n",
      "Mean score 0.3412140082598124\n",
      "Mean score 0.34591319128632564\n",
      "Mean score 0.3327594606462812\n",
      "Mean score 0.3274482750075548\n",
      "Mean score 0.3425828070895417\n",
      "Mean score 0.324063733646173\n",
      "Mean score 0.33206983817526564\n",
      "Mean score 0.32797701117104616\n",
      "Mean score 0.33273891593295096\n",
      "Mean score 0.33273891593295096\n",
      "Mean score 0.33273891593295096\n",
      "\n",
      " The best tree depth is:  8\n",
      "\n",
      " The best tree score is:  0.3556658377958783\n"
     ]
    }
   ],
   "source": [
    "best_score = 0\n",
    "best_depth = 0\n",
    "for i in range(5,20):\n",
    "    clf = DT(max_depth=i, random_state = 0)\n",
    "    # Perform 5-fold cross validation. \n",
    "    # The number of folds you want to use generally depends from the size of data\n",
    "    scores = cross_val_score(estimator= clf, scoring=\"f1\", X=X_train, y=y_train, cv=5)\n",
    "    mean_score = sum(scores) / len(scores)\n",
    "\n",
    "    if mean_score > best_score:\n",
    "        best_score =mean_score;\n",
    "        best_depth = i\n",
    "    \n",
    "\n",
    "    print('Mean score', mean_score)\n",
    "\n",
    "print('\\n The best tree depth is: ', best_depth )\n",
    "print('\\n The best tree score is: ', best_score )"
   ]
  },
  {
   "cell_type": "markdown",
   "metadata": {
    "colab_type": "text",
    "id": "zFTtDD7GMLda"
   },
   "source": [
    "**1.2.9 Use SVM with default parameters to classify test data and report accuracy, recall, precision, f1-score and AUC. Set the random_state equal to 0. (0.4 points)**"
   ]
  },
  {
   "cell_type": "code",
   "execution_count": 22,
   "metadata": {
    "colab": {},
    "colab_type": "code",
    "id": "w23rLdVpMLd7",
    "outputId": "faebd6bf-f58a-40db-f4dc-c044da9e3282"
   },
   "outputs": [
    {
     "name": "stdout",
     "output_type": "stream",
     "text": [
      "Accuracy Score is:  0.8673469387755102\n",
      "Classification Matrix is:                precision    recall  f1-score   support\n",
      "\n",
      "           0       0.87      0.99      0.93       245\n",
      "           1       0.86      0.24      0.38        49\n",
      "\n",
      "    accuracy                           0.87       294\n",
      "   macro avg       0.86      0.62      0.65       294\n",
      "weighted avg       0.87      0.87      0.83       294\n",
      "\n",
      "AUC score is:  0.6183673469387755\n"
     ]
    }
   ],
   "source": [
    "from sklearn.svm import SVC,NuSVC  #Import packages related to Model\n",
    "Model = \"SVC\"\n",
    "model=SVC(random_state=0) #Create the Model\n",
    "\n",
    "model.fit(X_train,y_train) #Train the Model\n",
    "y_pred = model.predict(X_test) #Use the Model for prediction\n",
    "print (\"Accuracy Score is: \", accuracy_score(y_test, y_pred))\n",
    "print(\"Classification Matrix is: \",classification_report(y_test, y_pred))\n",
    "print(\"AUC score is: \", roc_auc_score(y_test, y_pred))"
   ]
  },
  {
   "cell_type": "markdown",
   "metadata": {
    "colab_type": "text",
    "id": "Y3NxlOM0MLeL"
   },
   "source": [
    "**1.2.10 Use Logistic Regression with default parameters to classify test data and report accuracy, recall, precision, f1-score, AUC. Set the random_state equal to 0 (0.4 points)**"
   ]
  },
  {
   "cell_type": "code",
   "execution_count": 23,
   "metadata": {
    "colab": {},
    "colab_type": "code",
    "id": "tg2_nAivMLeT",
    "outputId": "4e1368ac-ce06-469a-96b5-4d97b6d5343a",
    "scrolled": true
   },
   "outputs": [
    {
     "name": "stdout",
     "output_type": "stream",
     "text": [
      "0.8877551020408163\n",
      "              precision    recall  f1-score   support\n",
      "\n",
      "           0       0.90      0.97      0.94       245\n",
      "           1       0.77      0.47      0.58        49\n",
      "\n",
      "    accuracy                           0.89       294\n",
      "   macro avg       0.83      0.72      0.76       294\n",
      "weighted avg       0.88      0.89      0.88       294\n",
      "\n"
     ]
    },
    {
     "data": {
      "text/plain": [
       "0.7204081632653062"
      ]
     },
     "execution_count": 23,
     "metadata": {},
     "output_type": "execute_result"
    }
   ],
   "source": [
    "Model = \"LogisticRegression\"\n",
    "model=LogisticRegression(random_state=0)\n",
    "\n",
    "model.fit(X_train,y_train) #Train the Model\n",
    "y_pred = model.predict(X_test) #Use the Model for prediction\n",
    "print (accuracy_score(y_test, y_pred))\n",
    "print(classification_report(y_test, y_pred))\n",
    "roc_auc_score(y_test, y_pred)"
   ]
  },
  {
   "cell_type": "markdown",
   "metadata": {
    "colab_type": "text",
    "id": "ouBtSaYTJBcL"
   },
   "source": [
    "**1.2.11 One of the parameters for the Logistic regression is tol which sets the tolerance for the stopping criteria. We are going to calculate the log loss metric for different values of tol. Please fill in the code below and plot the log loss values. Which one of tol values is better for our model based on log loss? (0.4 points)**\n"
   ]
  },
  {
   "cell_type": "code",
   "execution_count": 24,
   "metadata": {
    "colab": {},
    "colab_type": "code",
    "id": "CQpm6s2SJxJG",
    "outputId": "a214942e-77db-491a-ab77-e8cbc7a9c7a3"
   },
   "outputs": [
    {
     "data": {
      "image/png": "[encoded data removed]",
      "text/plain": [
       "<Figure size 432x288 with 1 Axes>"
      ]
     },
     "metadata": {
      "needs_background": "light"
     },
     "output_type": "display_data"
    }
   ],
   "source": [
    "from sklearn.linear_model import LogisticRegression as LR\n",
    "\n",
    "log_loss = []\n",
    "for tol in [0.9, 0.5, 0.1,  0.001, 0.0001, 0.000001, 0.000001]:\n",
    "    lr = LR(tol = tol, random_state = 0 );\n",
    "    lr.fit(X_train,y_train); #Train the Model\n",
    "    \n",
    "    y_pred = lr.predict_proba(X_test); #Use the Model for prediction\n",
    "    y_pred = y_pred[:,1];\n",
    "    a = metrics.log_loss(y_test, y_pred);\n",
    "    log_loss.append(a)\n",
    "    \n",
    "log_loss\n",
    "tolerance=  [0.9, 0.5, 0.1,  0.001, 0.0001, 0.000001, 0.000001];\n",
    "\n",
    "\n",
    "y_pos = np.arange(len(tolerance))\n",
    "plt.bar(y_pos, log_loss, align='center', alpha=0.5)\n",
    "plt.xticks(y_pos, tolerance)\n",
    "plt.ylabel('Log_loss')\n",
    "plt.xlabel('Tolerance')\n",
    "plt.title('Logistic Regression') \n",
    "\n",
    "plt.show()"
   ]
  },
  {
   "cell_type": "markdown",
   "metadata": {
    "colab_type": "text",
    "id": "Os990pmPI-Tm"
   },
   "source": [
    "**<font color='red'>Answer 1: Based on log loss, tolerance of 0.5 is better due to slightly better performance</font>** \n"
   ]
  },
  {
   "cell_type": "markdown",
   "metadata": {
    "colab_type": "text",
    "id": "E2z05iMlMLep"
   },
   "source": [
    "**1.2.12 Use Random Forest with default parameters to classify test data and report accuracy, recall, precision and f1-score and AUC. Set the random_state equal to 0. Please build as well a classification report separately which shows the metrics for each class. (0.4 points)**"
   ]
  },
  {
   "cell_type": "code",
   "execution_count": 25,
   "metadata": {
    "colab": {},
    "colab_type": "code",
    "id": "EWibHlLAMLew",
    "outputId": "e0caaa43-9a74-4dbf-f3ed-070c30281835"
   },
   "outputs": [
    {
     "name": "stdout",
     "output_type": "stream",
     "text": [
      "Accuracy Score is:  0.8605442176870748\n",
      "Classification Matrix is:                precision    recall  f1-score   support\n",
      "\n",
      "           0       0.86      1.00      0.92       245\n",
      "           1       0.90      0.18      0.31        49\n",
      "\n",
      "    accuracy                           0.86       294\n",
      "   macro avg       0.88      0.59      0.61       294\n",
      "weighted avg       0.87      0.86      0.82       294\n",
      "\n",
      "AUC score is:  0.5897959183673469\n"
     ]
    }
   ],
   "source": [
    "Model = \"RandomForestClassifier\"\n",
    "model=RandomForestClassifier(random_state=0)\n",
    "\n",
    "model.fit(X_train,y_train) #Train the Model\n",
    "y_pred = model.predict(X_test) #Use the Model for prediction\n",
    "# y_pred\n",
    "print (\"Accuracy Score is: \", accuracy_score(y_test, y_pred))\n",
    "print(\"Classification Matrix is: \",classification_report(y_test, y_pred))\n",
    "print(\"AUC score is: \", roc_auc_score(y_test, y_pred))"
   ]
  },
  {
   "cell_type": "markdown",
   "metadata": {
    "colab_type": "text",
    "id": "UJrqNiijMfjW"
   },
   "source": [
    "**1.2.13 Get the probabilities for each class from Random Forest model. Threshold the probabilities such that it will output the class No  only if the model is 70% or higher confident. In all other cases it will predict the class Yes. (0.4 points)**\n"
   ]
  },
  {
   "cell_type": "code",
   "execution_count": 26,
   "metadata": {
    "colab": {},
    "colab_type": "code",
    "id": "9GpWHAWvNWZL"
   },
   "outputs": [],
   "source": [
    "y_pred = model.predict_proba(X_test) #Use the Model for prediction\n",
    "# y_pred\n",
    "ThresholdedPred = np.array(y_pred[:,0])\n",
    "\n",
    "ThresholdedPred[ThresholdedPred >= 0.7] = 0 #first label all observations as No if model is confident 70%\n",
    "ThresholdedPred[ThresholdedPred > 0] = 1  #label other as Yes"
   ]
  },
  {
   "cell_type": "markdown",
   "metadata": {
    "colab_type": "text",
    "id": "zk80i4XKNX6W"
   },
   "source": [
    "**1.2.14 Build again the classification matrix. Do you think there were some improvements regarding the classification for class Yes ? Explain your answer briefly. (0.4 points)**"
   ]
  },
  {
   "cell_type": "code",
   "execution_count": 27,
   "metadata": {
    "colab": {},
    "colab_type": "code",
    "id": "4C48fb3jNW4d",
    "outputId": "905cba73-f5d7-49c9-a3f0-020c494b61ed"
   },
   "outputs": [
    {
     "name": "stdout",
     "output_type": "stream",
     "text": [
      "Accuracy Score is:  0.8299319727891157\n",
      "Classification Matrix is:                precision    recall  f1-score   support\n",
      "\n",
      "           0       0.89      0.91      0.90       245\n",
      "           1       0.49      0.43      0.46        49\n",
      "\n",
      "    accuracy                           0.83       294\n",
      "   macro avg       0.69      0.67      0.68       294\n",
      "weighted avg       0.82      0.83      0.83       294\n",
      "\n",
      "AUC score is:  0.6693877551020408\n"
     ]
    }
   ],
   "source": [
    "print (\"Accuracy Score is: \", accuracy_score(y_test, ThresholdedPred))\n",
    "print(\"Classification Matrix is: \",classification_report(y_test, ThresholdedPred))\n",
    "print(\"AUC score is: \", roc_auc_score(y_test, ThresholdedPred))\n"
   ]
  },
  {
   "cell_type": "markdown",
   "metadata": {
    "colab_type": "text",
    "id": "Am9hDnA5OMX6"
   },
   "source": [
    "**<font color='red'>Answer 1: As it can be seen there are some improvements regarding the classification for class Yes as recall has increased from 0.18 to 0.43. This is due to fact that we are reducing the effect of overfitting of our model on No classes by setting a high confidence threshold.</font>** "
   ]
  },
  {
   "cell_type": "markdown",
   "metadata": {
    "colab_type": "text",
    "id": "Nge1WamEMLfJ"
   },
   "source": [
    "**1.2.15 Use XGBoost with default parameters to classify test data and report accuracy, recall, precision, f1-score and AUC. (0.4 points)**"
   ]
  },
  {
   "cell_type": "code",
   "execution_count": 44,
   "metadata": {
    "colab": {},
    "colab_type": "code",
    "id": "MO5l5l03MLfO",
    "outputId": "63dbeef6-ccce-4bc1-be14-c4e98f86a11e",
    "scrolled": true
   },
   "outputs": [
    {
     "name": "stdout",
     "output_type": "stream",
     "text": [
      "[16:39:53] WARNING: C:/Users/Administrator/workspace/xgboost-win64_release_1.3.0/src/learner.cc:1061: Starting in XGBoost 1.3.0, the default evaluation metric used with the objective 'binary:logistic' was changed from 'error' to 'logloss'. Explicitly set eval_metric if you'd like to restore the old behavior.\n",
      "Accuracy Score is:  0.8503401360544217\n",
      "Classification Matrix is:                precision    recall  f1-score   support\n",
      "\n",
      "           0       0.87      0.97      0.92       245\n",
      "           1       0.62      0.27      0.37        49\n",
      "\n",
      "    accuracy                           0.85       294\n",
      "   macro avg       0.74      0.62      0.64       294\n",
      "weighted avg       0.83      0.85      0.82       294\n",
      "\n",
      "AUC score is:  0.616326530612245\n"
     ]
    }
   ],
   "source": [
    "#!pip install xgboost\n",
    "from xgboost import XGBClassifier  #Import packages related to Model\n",
    "Model = \"XGBClassifier()\"\n",
    "model=XGBClassifier() #Create the Model\n",
    "\n",
    "model.fit(X_train,y_train) #Train the Model\n",
    "y_pred = model.predict(X_test) #Use the Model for prediction\n",
    "\n",
    "print (\"Accuracy Score is: \", accuracy_score(y_test, y_pred))\n",
    "print(\"Classification Matrix is: \",classification_report(y_test, y_pred))\n",
    "print(\"AUC score is: \", roc_auc_score(y_test, y_pred))"
   ]
  },
  {
   "cell_type": "markdown",
   "metadata": {
    "colab_type": "text",
    "id": "W41zIM_iMLfo"
   },
   "source": [
    "**1.2.16 Based on your answer from 1.2.6 and other important evaluation metrics for unbalanced datasets, choose the best classifier and plot its feature importances in decreasing order. Were the 3 most important features as you expected ? Please explain why. (0.4 points)**"
   ]
  },
  {
   "cell_type": "code",
   "execution_count": 32,
   "metadata": {
    "colab": {},
    "colab_type": "code",
    "id": "ihPpZq_cQNf5"
   },
   "outputs": [
    {
     "data": {
      "image/png": "[encoded data removed]",
      "text/plain": [
       "<Figure size 1800x1440 with 1 Axes>"
      ]
     },
     "metadata": {
      "needs_background": "light"
     },
     "output_type": "display_data"
    }
   ],
   "source": [
    "# Since we are getting 0.89 weighted average logistic regression score, so it is our best model.\n",
    "X_train.shape[1]\n",
    "Model = \"LogisticRegression\"\n",
    "model=LogisticRegression(random_state=0)\n",
    "\n",
    "clf = model.fit(X_train,y_train) #Train the Model\n",
    "importances = np.abs(clf.coef_[0])\n",
    "coefs = np.abs(clf.coef_[0])\n",
    "indices = np.argsort(coefs)[::-1]\n",
    "# feats\n",
    "names = [feats[i] for i in indices]\n",
    "# names\n",
    "\n",
    "plt.figure(num=None, figsize=(25, 20))\n",
    "plt.title(\"Feature importances (Logistic Regression)\")\n",
    "plt.bar(range(50), coefs[indices[:50]],\n",
    "       color=\"r\", align=\"center\")\n",
    "plt.xticks(range(50), feats, rotation=45, ha='right')\n",
    "plt.subplots_adjust(bottom=0.3)"
   ]
  },
  {
   "cell_type": "markdown",
   "metadata": {
    "colab_type": "text",
    "id": "khLM_PzmMLfv"
   },
   "source": [
    "**<font color='red'>Answer 1: Age, DailyRate and Distance from home are the most important fetaures. These are as expected since employees retire when they get old, their wage is the second most important factor, since good salary is important for retention and Distance from home being the third.</font>** "
   ]
  },
  {
   "cell_type": "markdown",
   "metadata": {
    "colab_type": "text",
    "id": "0GBmXXe8MLf2"
   },
   "source": [
    "# 2. Improving classification (2 points)"
   ]
  },
  {
   "cell_type": "markdown",
   "metadata": {
    "colab_type": "text",
    "id": "YyFysH0rMLf_"
   },
   "source": [
    "In this task we will try to improve the performance of the best classifier you selected on 1.2.12 by using several techniques. "
   ]
  },
  {
   "cell_type": "code",
   "execution_count": 46,
   "metadata": {
    "colab": {},
    "colab_type": "code",
    "id": "iJmDSEbjQNf-"
   },
   "outputs": [],
   "source": [
    "# sklearn modules for preprocessing\n",
    "#!pip install imblearn\n",
    "from sklearn.preprocessing import OneHotEncoder, LabelEncoder\n",
    "from imblearn.over_sampling import SMOTE  # SMOTE\n",
    "from imblearn.under_sampling import RandomUnderSampler\n",
    "# sklearn modules for ML model selection\n",
    "from sklearn.model_selection import train_test_split  # import 'train_test_split'\n",
    "from sklearn.model_selection import GridSearchCV\n",
    "from sklearn.model_selection import RandomizedSearchCV\n",
    "from sklearn.model_selection import ShuffleSplit\n",
    "from sklearn.model_selection import KFold\n",
    "from sklearn.model_selection import cross_val_score"
   ]
  },
  {
   "cell_type": "markdown",
   "metadata": {
    "colab_type": "text",
    "id": "jjqzAyR4MLgM"
   },
   "source": [
    "**2.1 Do you think it is better to try oversampling or downsampling in this case study and why ? (0.4 points)** "
   ]
  },
  {
   "cell_type": "markdown",
   "metadata": {
    "colab_type": "text",
    "id": "CDkfyTzhMLgR"
   },
   "source": [
    "**<font color='red'>Answer 1: Due to imbalncing of data it is better to do downsample the Yes class and over sample the No class</font>** "
   ]
  },
  {
   "cell_type": "markdown",
   "metadata": {
    "colab_type": "text",
    "id": "YaYBgnPLMLgY"
   },
   "source": [
    "**2.2 Apply oversampling to the data while keeping random_state equal to 0. (0.4 points)**"
   ]
  },
  {
   "cell_type": "code",
   "execution_count": 47,
   "metadata": {
    "colab": {},
    "colab_type": "code",
    "id": "Aj2QLJR8MLgn"
   },
   "outputs": [],
   "source": [
    "smote=SMOTE(random_state = 0)\n",
    "X_sm, y_sm=smote.fit_sample(X,y)\n",
    "X_train_sm,X_test_sm,y_train_sm,y_test_sm=train_test_split(X_sm,y_sm,test_size=0.2,random_state=0)"
   ]
  },
  {
   "cell_type": "markdown",
   "metadata": {
    "colab_type": "text",
    "id": "Kx-bFmqpMLhP"
   },
   "source": [
    "**2.3 Split the data into train/test set with a ratio 80/20. Keep a random_state equal to 0. Use the algorithm chosen in 1.2.12 and report accuracy, precision, recall, f1-score and AUC. (0.4 points)** "
   ]
  },
  {
   "cell_type": "code",
   "execution_count": 48,
   "metadata": {
    "colab": {},
    "colab_type": "code",
    "id": "zQVlRIJvMLhX"
   },
   "outputs": [
    {
     "name": "stdout",
     "output_type": "stream",
     "text": [
      "0.8036437246963563\n",
      "              precision    recall  f1-score   support\n",
      "\n",
      "           0       0.80      0.77      0.78       231\n",
      "           1       0.80      0.84      0.82       263\n",
      "\n",
      "    accuracy                           0.80       494\n",
      "   macro avg       0.80      0.80      0.80       494\n",
      "weighted avg       0.80      0.80      0.80       494\n",
      "\n"
     ]
    },
    {
     "data": {
      "text/plain": [
       "0.8013678336872253"
      ]
     },
     "execution_count": 48,
     "metadata": {},
     "output_type": "execute_result"
    }
   ],
   "source": [
    "#logistic Regression for OverSampled Data \n",
    "Model = \"LogisticRegression\"\n",
    "model=LogisticRegression(random_state=0)\n",
    "\n",
    "model.fit(X_train_sm,y_train_sm) #Train the Model\n",
    "y_pred_sm = model.predict(X_test_sm) #Use the Model for prediction\n",
    "print (accuracy_score(y_test_sm, y_pred_sm))\n",
    "print(classification_report(y_test_sm, y_pred_sm))\n",
    "roc_auc_score(y_test_sm, y_pred_sm)\n"
   ]
  },
  {
   "cell_type": "markdown",
   "metadata": {
    "colab_type": "text",
    "id": "cWxZ0WobMLhm"
   },
   "source": [
    "**2.4 Apply undersampling to the data while keeping random_state equal to 0. (0.4 points)**"
   ]
  },
  {
   "cell_type": "code",
   "execution_count": 49,
   "metadata": {
    "colab": {},
    "colab_type": "code",
    "id": "rPIbRaRIMLhp",
    "scrolled": true
   },
   "outputs": [],
   "source": [
    "rus = RandomUnderSampler(random_state=0)\n",
    "x_rus, y_rus=rus.fit_sample(X,y)\n",
    "X_train_rus,X_test_rus,y_train_rus,y_test_rus=train_test_split(x_rus,y_rus,test_size=0.2,random_state=0)"
   ]
  },
  {
   "cell_type": "markdown",
   "metadata": {
    "colab_type": "text",
    "id": "TsQzm2JmMLiC"
   },
   "source": [
    "**2.5 Split the data into train/test set with a ratio 80/20. Keep a random_state equal to 0. Use the algorithm chosen in 1.2.12 to classify the test data and report accuracy, precision, recall, f1-score and AUC. (0.4 points)** "
   ]
  },
  {
   "cell_type": "code",
   "execution_count": 50,
   "metadata": {
    "colab": {},
    "colab_type": "code",
    "id": "RKi4p2MVMLiK"
   },
   "outputs": [
    {
     "name": "stdout",
     "output_type": "stream",
     "text": [
      "0.7789473684210526\n",
      "              precision    recall  f1-score   support\n",
      "\n",
      "           0       0.82      0.74      0.78        50\n",
      "           1       0.74      0.82      0.78        45\n",
      "\n",
      "    accuracy                           0.78        95\n",
      "   macro avg       0.78      0.78      0.78        95\n",
      "weighted avg       0.78      0.78      0.78        95\n",
      "\n"
     ]
    },
    {
     "data": {
      "text/plain": [
       "0.7811111111111111"
      ]
     },
     "execution_count": 50,
     "metadata": {},
     "output_type": "execute_result"
    }
   ],
   "source": [
    "#logistic Regression for OverSampled Data \n",
    "Model = \"LogisticRegression\"\n",
    "model=LogisticRegression(random_state=0)\n",
    "\n",
    "model.fit(X_train_rus,y_train_rus) #Train the Model\n",
    "y_pred_rus = model.predict(X_test_rus) #Use the Model for prediction\n",
    "print (accuracy_score(y_test_rus, y_pred_rus))\n",
    "print(classification_report(y_test_rus, y_pred_rus))\n",
    "roc_auc_score(y_test_rus, y_pred_rus)\n"
   ]
  }
 ],
 "metadata": {
  "colab": {
   "name": "Homework_03_01.ipynb",
   "provenance": []
  },
  "kernelspec": {
   "display_name": "Python 3",
   "language": "python",
   "name": "python3"
  },
  "language_info": {
   "codemirror_mode": {
    "name": "ipython",
    "version": 3
   },
   "file_extension": ".py",
   "mimetype": "text/x-python",
   "name": "python",
   "nbconvert_exporter": "python",
   "pygments_lexer": "ipython3",
   "version": "3.8.3"
  }
 },
 "nbformat": 4,
 "nbformat_minor": 1
}
